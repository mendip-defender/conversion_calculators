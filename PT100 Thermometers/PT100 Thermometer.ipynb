{
 "cells": [
  {
   "cell_type": "markdown",
   "id": "63c48c9a-fdc7-4620-a997-196032db8100",
   "metadata": {},
   "source": [
    "# Formulas etc for PT100 Thermometer Probes\n",
    "## Based on IEC 60751 which is the standard that defines them.\n",
    "\n",
    "The following maths are various formulas related to the use of PT100 thermometers based on the information in\n",
    "BS EN 60751: 2008 - Industrial platinum resistance thermometers and platinum temperature sensors.\n",
    "\n",
    "\n",
    "Use this at your peril, check the maths.\n",
    "\n",
    "\n",
    "2024-07-06 https://github.com/mendip-defender/"
   ]
  },
  {
   "cell_type": "code",
   "execution_count": 1,
   "id": "1122d992-87ba-4229-ba4f-569ef8b3c631",
   "metadata": {},
   "outputs": [],
   "source": [
    "import pt100"
   ]
  },
  {
   "cell_type": "markdown",
   "id": "f27d7644-837d-4739-9144-00e63b9a61bd",
   "metadata": {},
   "source": [
    "### Classes and Tolerances are,\n",
    "- AA = ±(0.1 + 0.0017 x °C)\n",
    "- A = ±(0.15 + 0.002 x °C)\n",
    "- B = ±(0.3 + 0.005 x °C)\n",
    "- C = ±(0.6 + 0.01 x °C)"
   ]
  },
  {
   "cell_type": "code",
   "execution_count": 2,
   "id": "c3d75eed-9a01-4bc1-a86c-639952f97b75",
   "metadata": {},
   "outputs": [
    {
     "name": "stdout",
     "output_type": "stream",
     "text": [
      "Help on function calculate_class in module pt100_maths:\n",
      "\n",
      "calculate_class(ref_t, uuc_t)\n",
      "    Using the Reference Temperature (ref_t) and the Unit Under Calibration Temperature (uuc_t),\n",
      "     * Calculate the difference as an absolute\n",
      "     * Calculate the various tolerances classes based on BS EN 60751: 2008\n",
      "     * Determined which class that reading would be placed in.\n",
      "    It will return,\n",
      "     - ref_t = Reference Temperature\n",
      "     - uuc_t = Under Calibration Temperature\n",
      "     - diff_r = Difference between the two readings rounded to 4 digits after the decimal\n",
      "     - grade = The class the reading falls into, Unknown will display if it is outside the tolerance.\n",
      "     - aa_spec = The calculated tolerance for AA Class\n",
      "     - a_spec = The calculated tolerance for A Class\n",
      "     - b_spec = The calculated tolerance for B Class\n",
      "     - c_spec = The calculated tolerance for C Class\n",
      "\n"
     ]
    }
   ],
   "source": [
    "help(pt100.calculate_class)"
   ]
  },
  {
   "cell_type": "markdown",
   "id": "1a00ccb1-a334-40ec-b9e2-5bedfc19fb65",
   "metadata": {},
   "source": [
    "The above help section from the pt100_maths and the example formula below shows how you can calculate the class when you calibrate a thermometer. Using the reference temperature of 100.00 °C and the displayed temperature of 100.2 °C from the probe being calibrated."
   ]
  },
  {
   "cell_type": "code",
   "execution_count": 3,
   "id": "64b74e9e-4d79-4781-926e-d623706afffd",
   "metadata": {},
   "outputs": [
    {
     "name": "stdout",
     "output_type": "stream",
     "text": [
      "At 100.0 °C the error was -0.2 °C, which makes the the probe a Class AA\n"
     ]
    }
   ],
   "source": [
    "diff_r, grade, aa_spec, a_spec, b_spec, c_spec, ref_t, uuc_t = pt100.calculate_class(100.00, 100.2)\n",
    "print('At',ref_t, '°C the error was', diff_r, '°C, which makes the the probe a', grade)"
   ]
  },
  {
   "cell_type": "markdown",
   "id": "964a6741-bf2a-4fbe-8607-555d581cdad6",
   "metadata": {},
   "source": [
    "This can also be used to generate a table for a given temperature range."
   ]
  },
  {
   "cell_type": "code",
   "execution_count": 4,
   "id": "0fecf881-e767-4ff8-bd56-b4c7b9be390c",
   "metadata": {},
   "outputs": [
    {
     "name": "stdout",
     "output_type": "stream",
     "text": [
      "Temperature, AA Class, A Class, B Class, C Class\n",
      "-10 , 0.083 , 0.133 , 0.283 , 0.583\n",
      "-9 , 0.0847 , 0.1347 , 0.2847 , 0.5847\n",
      "-8 , 0.0864 , 0.1364 , 0.2864 , 0.5864\n",
      "-7 , 0.0881 , 0.1381 , 0.2881 , 0.5881\n",
      "-6 , 0.0898 , 0.1398 , 0.2898 , 0.5898\n",
      "-5 , 0.0915 , 0.1415 , 0.2915 , 0.5915\n",
      "-4 , 0.0932 , 0.1432 , 0.2932 , 0.5932\n",
      "-3 , 0.0949 , 0.1449 , 0.2949 , 0.5949\n",
      "-2 , 0.0966 , 0.1466 , 0.2966 , 0.5966\n",
      "-1 , 0.0983 , 0.1483 , 0.2983 , 0.5983\n",
      "0 , 0.1 , 0.15 , 0.3 , 0.6\n",
      "1 , 0.1017 , 0.1517 , 0.3017 , 0.6017\n",
      "2 , 0.1034 , 0.1534 , 0.3034 , 0.6034\n",
      "3 , 0.1051 , 0.1551 , 0.3051 , 0.6051\n",
      "4 , 0.1068 , 0.1568 , 0.3068 , 0.6068\n",
      "5 , 0.1085 , 0.1585 , 0.3085 , 0.6085\n",
      "6 , 0.1102 , 0.1602 , 0.3102 , 0.6102\n",
      "7 , 0.1119 , 0.1619 , 0.3119 , 0.6119\n",
      "8 , 0.1136 , 0.1636 , 0.3136 , 0.6136\n",
      "9 , 0.1153 , 0.1653 , 0.3153 , 0.6153\n",
      "10 , 0.117 , 0.167 , 0.317 , 0.617\n"
     ]
    }
   ],
   "source": [
    "T = -10 # start value\n",
    "t = 1 # increment value, use 0.01 if you like\n",
    "\n",
    "print('Temperature, AA Class, A Class, B Class, C Class')\n",
    "while T < 11: # 11 is the current max, but you can go to 850 if you like.\n",
    "    diff_r, grade, aa_spec, a_spec, b_spec, c_spec, ref_t, uuc_t = pt100.calculate_class(T, T)\n",
    "    print(ref_t,',', aa_spec,',', a_spec,',', b_spec,',', c_spec)\n",
    "    T += t"
   ]
  },
  {
   "cell_type": "markdown",
   "id": "8a576e0c-6041-4ec4-8b52-d48d9c67cd3a",
   "metadata": {},
   "source": [
    "### Formulas for the calculating,\n",
    "For the range - 200 °C to  0 °C:\n",
    "$$ R_{t} = R_{0}[1+At+Bt^{2}+C(t-100 °C)t^{3}] $$\n",
    "For the range of 0 °C to 850 °C:\n",
    "$$ R_{t} = R_{0}(1+At+Bt^{2}) $$\n",
    "where \n",
    "<br>\n",
    "$R_{t}$ is the resistance at the temperature $t$;\n",
    "<br>\n",
    "$R_{0}$ is the resistance at $t = 0 °C$\n",
    "\n",
    "The constants in these equations are:\n",
    "<br>\n",
    "A = 3.9083 x 10$^{-3}$ °C$^{-1}$ \n",
    "<br>\n",
    "B = -5.775 x 10$^{-7}$ °C$^{-2}$ \n",
    "<br>\n",
    "C = -4.183 x 10$^{-12}$ °C$^{-4}$ "
   ]
  },
  {
   "cell_type": "code",
   "execution_count": 5,
   "id": "e05a7867-5c21-4294-8089-124905230b37",
   "metadata": {},
   "outputs": [
    {
     "name": "stdout",
     "output_type": "stream",
     "text": [
      "Help on function temp_to_ohm in module pt100_maths:\n",
      "\n",
      "temp_to_ohm(temp)\n",
      "    Using a given Temperature (temp), this function will calculate the resistance based on the coefficients in BS EN 60751: 2008\n",
      "    It will return,\n",
      "     - t = The inputted Temperature (temp)\n",
      "     - Rt = Resistance value.\n",
      "\n"
     ]
    }
   ],
   "source": [
    "help(pt100.temp_to_ohm)"
   ]
  },
  {
   "cell_type": "code",
   "execution_count": 6,
   "id": "169f7b1c-3df6-4b42-af7d-12a227d9a9c8",
   "metadata": {},
   "outputs": [
    {
     "name": "stdout",
     "output_type": "stream",
     "text": [
      "At 200 °C the resistance will be 175.856 Ω\n"
     ]
    }
   ],
   "source": [
    "t, Rt = pt100.temp_to_ohm(200)\n",
    "print('At', t, '°C the resistance will be', round(Rt,4), 'Ω')"
   ]
  },
  {
   "cell_type": "markdown",
   "id": "292ce3cc-20e6-4dad-bee5-3ac55fe8d9ea",
   "metadata": {},
   "source": [
    "Again you can use this function to calculate a referance table."
   ]
  },
  {
   "cell_type": "code",
   "execution_count": 7,
   "id": "cf3534fb-e565-4d2a-8d85-309e872a50d9",
   "metadata": {},
   "outputs": [
    {
     "name": "stdout",
     "output_type": "stream",
     "text": [
      "Temperature °C, Resistance Ω\n",
      "-10 , 96.0859\n",
      "-9 , 96.4778\n",
      "-8 , 96.8696\n",
      "-7 , 97.2613\n",
      "-6 , 97.6529\n",
      "-5 , 98.0444\n",
      "-4 , 98.4358\n",
      "-3 , 98.827\n",
      "-2 , 99.2181\n",
      "-1 , 99.6091\n",
      "0 , 100.0\n",
      "1 , 100.3908\n",
      "2 , 100.7814\n",
      "3 , 101.172\n",
      "4 , 101.5624\n",
      "5 , 101.9527\n",
      "6 , 102.3429\n",
      "7 , 102.733\n",
      "8 , 103.1229\n",
      "9 , 103.5128\n",
      "10 , 103.9025\n"
     ]
    }
   ],
   "source": [
    "sT = -10 # start value\n",
    "eT = 11 # End value, 11 is the current max, but you can go to 850 if you like.\n",
    "Tn = 1 # increment value, use 0.01 if you like\n",
    "\n",
    "print('Temperature °C, Resistance Ω')\n",
    "while sT < eT: \n",
    "    t, Rt = pt100.temp_to_ohm(sT)\n",
    "    print(t,',', round(Rt,4))\n",
    "    sT += Tn"
   ]
  },
  {
   "cell_type": "code",
   "execution_count": 9,
   "id": "19ce0fee-b762-44a5-88cd-fc87fe1a24b0",
   "metadata": {},
   "outputs": [
    {
     "name": "stdout",
     "output_type": "stream",
     "text": [
      "Help on function ohm_to_temp in module pt100_maths:\n",
      "\n",
      "ohm_to_temp(ohm, n)\n",
      "    Using a given Resistance (ohm) and Number of digits (n) to output the Temperature (t) this function will calculate\n",
      "    the temperature based on the coefficients in BS EN 60751: 2008, using a while loop to keep reiterating through the numbers until it finds the same number.\n",
      "    It will return,\n",
      "     - Rt = The inputted resistance\n",
      "     - t = Temperature\n",
      "\n"
     ]
    }
   ],
   "source": [
    "help(pt100.ohm_to_temp)"
   ]
  },
  {
   "cell_type": "code",
   "execution_count": 10,
   "id": "320448d4-624e-43f1-96e9-ec75c5a8839b",
   "metadata": {},
   "outputs": [
    {
     "name": "stdout",
     "output_type": "stream",
     "text": [
      "With a resistance of 138.554 Ω the temperature will be 100.128 °C\n"
     ]
    }
   ],
   "source": [
    "Rt, t = pt100.ohm_to_temp(138.554,4)\n",
    "print('With a resistance of', Rt, 'Ω the temperature will be', round(t,4), '°C')"
   ]
  },
  {
   "cell_type": "markdown",
   "id": "691484b6-64d4-4358-9d24-6db9e47ace0d",
   "metadata": {},
   "source": [
    "Again we can generate a table for referance."
   ]
  },
  {
   "cell_type": "code",
   "execution_count": 11,
   "id": "7b637735-c4b0-4d18-845c-0d510ede9f57",
   "metadata": {},
   "outputs": [
    {
     "name": "stdout",
     "output_type": "stream",
     "text": [
      "Resistance Ω, Temperature °C\n",
      "98 , -5.1133\n",
      "99 , -2.5575\n",
      "100 , 0\n",
      "101 , 2.5598\n",
      "102 , 5.1213\n",
      "103 , 7.6848\n",
      "104 , 10.2503\n",
      "105 , 12.8177\n",
      "106 , 15.3871\n",
      "107 , 17.9584\n",
      "108 , 20.5317\n",
      "109 , 23.107\n",
      "110 , 25.6842\n"
     ]
    }
   ],
   "source": [
    "sR = 98 # start value\n",
    "eR = 111 # End value, 111 is the current max, but you can go to 390.\n",
    "Rn = 1 # increment value, use 0.01 if you like\n",
    "\n",
    "print('Resistance Ω, Temperature °C')\n",
    "while sR < eR: \n",
    "    Rt, t = pt100.ohm_to_temp(sR,4)\n",
    "    print(Rt,',', round(t,4))\n",
    "    sR += Rn"
   ]
  }
 ],
 "metadata": {
  "kernelspec": {
   "display_name": "Python 3 (ipykernel)",
   "language": "python",
   "name": "python3"
  },
  "language_info": {
   "codemirror_mode": {
    "name": "ipython",
    "version": 3
   },
   "file_extension": ".py",
   "mimetype": "text/x-python",
   "name": "python",
   "nbconvert_exporter": "python",
   "pygments_lexer": "ipython3",
   "version": "3.9.2"
  }
 },
 "nbformat": 4,
 "nbformat_minor": 5
}
