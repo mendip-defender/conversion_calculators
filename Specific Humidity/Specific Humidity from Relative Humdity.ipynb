{
 "cells": [
  {
   "cell_type": "markdown",
   "id": "65ab304b-fe4b-4350-a819-7047565168ff",
   "metadata": {},
   "source": [
    "# Calculating Specific Humidity (q) from Relative Humidity (RH)\n",
    "\n",
    "__THIS IS CURRENTLY NOT CORRECT/TESTED PLEASE DO NOT TRUST THIS__\n",
    "\n",
    "### This is an attempt to decipher the formulas used to calculate Specific Humidity (SH) from Relative Humidity (RH) while also providing an example for checking code at the end of it."
   ]
  },
  {
   "cell_type": "markdown",
   "id": "eb1b66ac-40a4-4bdf-a353-418dc9ae7760",
   "metadata": {},
   "source": [
    "The following formula and explanation are found here: https://earthscience.stackexchange.com/questions/5076/how-to-calculate-specific-humidity-with-relative-humidity-temperature-and-pres/\n",
    "\n",
    "> If you are given $RH$ (in the range [0,1]), $T$(K) and $p$(Pa) you can proceed as follows.\n",
    ">\n",
    "> Knowing that\n",
    "> $$RH = \\dfrac{e}{e_s},$$\n",
    "> $$w = \\dfrac{e\\ R_d}{R_v(p-e)},$$\n",
    "> and\n",
    "> $$q = \\dfrac{w}{w+1}$$\n",
    "> \n",
    "> Then we can solve for specific humidity $q$\n",
    "> \n",
    "> Rather than combining this into a single formula and solving, it is more straightforward to present this incrementally.\n",
    "> \n",
    "> First, find $e_s(T)$\n",
    "> where\n",
    "> $$e_s(T) = e_{s0}\\exp\\left[\\left(\\dfrac{L_v(T)}{R_v}\\right)\\left(\\dfrac{1}{T_0}-\\dfrac{1}{T}\\right)\\right]$$\n",
    "> and then find e from the first formula ($e = RH*e_s$). Then plug $e$ into the formula for $w$ and then that result into the formula for $q$. \n",
    "> \n",
    "> Variables used:\n",
    "> - $q$ specific humidity or the mass mixing ratio of water vapor to total air (dimensionless)\n",
    "> - $w$ mass mixing ratio of water vapor to dry air (dimensionless)\n",
    "> - $e_s(T)$ saturation vapor pressure (Pa)\n",
    "> - $e_s0$ saturation vapor pressure at $T_0$ (Pa)\n",
    "> - $Rd$ specific gas constant for dry air (J kg$^{-1}$ K$^{-1}$)\n",
    "> - $Rv$ specific gas constant for water vapor (J kg$^{-1}$ K$^{-1}$)\n",
    "> - $p$ pressure (Pa)\n",
    "> - $L_v(T)$ specific enthalpy of vaporization (J kg$^{-1}$)\n",
    "> - $T$ temperature (K)\n",
    "> - $T0$ reference temperature (typically 273.16 K) (K)\n",
    "> \n",
    "> To display pressure in millibars, conveniently, 1 millibar = 1 hectopascal."
   ]
  },
  {
   "cell_type": "code",
   "execution_count": 1,
   "id": "fa91b21f-c071-46d0-a9ae-27847ada5d93",
   "metadata": {},
   "outputs": [],
   "source": [
    "import math\n",
    "\n",
    "# External Inputs\n",
    "Temp = 22 # Degrees C\n",
    "Hum = 60 # in %\n",
    "Pres = 1005 # mbar\n",
    "\n",
    "# Constants\n",
    "T0 = 273.15\n",
    "es0 = 611.29 # CRC Handbook of Chemistry and Physics by David R Lide\n",
    "LvT = 2257*1000 # https://en.wikipedia.org/wiki/Enthalpy_of_vaporization then change J/g to J/kg\n",
    "Rv = 461.5 # https://en.wikipedia.org/wiki/Gas_constant#Specific_gas_constant\n",
    "Rd = 287.052874 # https://en.wikipedia.org/wiki/Gas_constant#Specific_gas_constant\n",
    "\n",
    "# External Inputs ready to feed in\n",
    "T = T0+Temp # Degrees C into Kelvin\n",
    "p = Pres*100 # mbar into Pascals\n",
    "RH = 60/100 # Humidity as a decimal not a %\n"
   ]
  },
  {
   "cell_type": "code",
   "execution_count": 2,
   "id": "948c65dd-aed2-43bb-a242-41b4fa261bb3",
   "metadata": {},
   "outputs": [],
   "source": [
    "# First part of the formula\n",
    "esT = es0*(math.exp((LvT/Rv)*((1/T0)-(1/T))))\n",
    "e = RH*esT\n",
    "w = (e*Rd)/(Rv*(p-e))\n",
    "q = w/(w+1)"
   ]
  },
  {
   "cell_type": "code",
   "execution_count": 3,
   "id": "4e4db631-26b6-4781-9e26-d4eb370fbb9e",
   "metadata": {},
   "outputs": [
    {
     "name": "stdout",
     "output_type": "stream",
     "text": [
      "2321.8807982413255\n",
      "1393.1284789447952\n",
      "0.008743344636439247\n",
      "0.008667561162042096\n"
     ]
    }
   ],
   "source": [
    "print(esT)\n",
    "print(e)\n",
    "print(w)\n",
    "print(q)"
   ]
  },
  {
   "cell_type": "markdown",
   "id": "15f08feb-af16-4e6c-bf9f-019bae34b52f",
   "metadata": {},
   "source": [
    "### Results\n",
    "\n",
    "With a Temp of 22°C and a Humidity of 60 %RH at 1005 mbar we get,\n",
    "- $e_{s0}$ = 2321.8807982413255\n",
    "- $e$ = 1393.1284789447952\n",
    "- $w$ = 0.008743344636439247\n",
    "- $q$ = 0.008667561162042096"
   ]
  },
  {
   "cell_type": "code",
   "execution_count": null,
   "id": "15fa370d-f6bc-4561-840e-c2f52da1fc4f",
   "metadata": {},
   "outputs": [],
   "source": []
  }
 ],
 "metadata": {
  "kernelspec": {
   "display_name": "Python 3 (ipykernel)",
   "language": "python",
   "name": "python3"
  },
  "language_info": {
   "codemirror_mode": {
    "name": "ipython",
    "version": 3
   },
   "file_extension": ".py",
   "mimetype": "text/x-python",
   "name": "python",
   "nbconvert_exporter": "python",
   "pygments_lexer": "ipython3",
   "version": "3.9.2"
  }
 },
 "nbformat": 4,
 "nbformat_minor": 5
}
