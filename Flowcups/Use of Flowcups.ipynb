{
 "cells": [
  {
   "cell_type": "code",
   "execution_count": 1,
   "id": "73934506-7dc5-43e1-b3c5-a3caaac2e389",
   "metadata": {},
   "outputs": [
    {
     "name": "stdout",
     "output_type": "stream",
     "text": [
      "Help on module flowcups:\n",
      "\n",
      "NAME\n",
      "    flowcups\n",
      "\n",
      "DESCRIPTION\n",
      "    These equations convert cup drain time, collected at 25 °C and between the minimum and maximum drain times indicated, into kinematic viscosity values in mm²/s (cSt).\n",
      "    Based on the data provided in the following standards, ASTM D4212, ASTM D1200, DIN 53211 and ISO 2341.\n",
      "    \n",
      "    Copyright © 2024-05 Jack Stringer <snakes@jackstringer.co.uk>, https://github.com/mendip-defender/\n",
      "\n",
      "FUNCTIONS\n",
      "    DIN_Cup_4mm(t)\n",
      "        Convert the cup drain time (t) into kinematic viscosity values in mm²/s (cSt) for Ford Cups\n",
      "        Following the data from DIN 53211\n",
      "        State Cup number followed by the time for example:\n",
      "        DIN 4mm with a drain time of 80 seconds\n",
      "        DIN_Cup_4mm(97)\n",
      "        This should give you a reading of 438.6302 mm²/s (cSt)\n",
      "        \n",
      "        Equation is V = 4.57t-452/t\n",
      "        | Type  | Cup Number | Drain Time | Orifice | Recommended Oil Viscosity |   A   |  B   |\n",
      "        |-------|------------|------------|---------|---------------------------|-------|------|\n",
      "        | DIN   | 4          | 25 to 150  | 4 mm    |                           |  4.57 |  452 |\n",
      "    \n",
      "    Ford_Cup(cup, t)\n",
      "        Convert the cup drain time (t) into kinematic viscosity values in mm²/s (cSt) for Ford Cups\n",
      "        Following the data from ASTM D1200\n",
      "        State Cup number followed by the time for example:\n",
      "        Ford Cup #4 with a drain time of 80 seconds\n",
      "        Ford_Cup(4,80)\n",
      "        This should give you a reading of 290.7135 mm²/s (cSt)\n",
      "        \n",
      "        Equation is V = K(t−c)\n",
      "        \n",
      "        | Type  | Cup Number | Drain Time | Orifice | Recommended Oil Viscosity |   K   |  c   |\n",
      "        |-------|------------|------------|---------|---------------------------|-------|------|\n",
      "        | Ford  |          1 | 55 to 100  | 1.9 mm  | 20 mm²/s (cSt)            |  0.49 |   35 |\n",
      "        | Ford  |          2 | 40 to 100  | 2.53 mm | 35 mm²/s (cSt)            |  1.44 |   18 |\n",
      "        | Ford  |          3 | 20 to 100  | 3.4 mm  | 120 mm²/s (cSt)           |  2.31 | 6.58 |\n",
      "        | Ford  |          4 | 20 to 100  | 4.12 mm | 120 mm²/s (cSt)           |  3.85 | 4.49 |\n",
      "        | Ford  |          5 | 20 to 100  | 5.2 mm  | 460 mm²/s (cSt)           |  12.1 |  2.0 |\n",
      "    \n",
      "    ISO_Cup(cup, t)\n",
      "        Convert the cup drain time (t) into kinematic viscosity values in mm²/s (cSt) for Ford Cups\n",
      "        Following the data from ISO 2341\n",
      "        State Cup number followed by the time for example:\n",
      "        ISO Cup 3mm with a drain time of 57 seconds\n",
      "        ISO_Cup(3,57)\n",
      "        This should give you a reading of 21.7422 mm²/s (cSt)\n",
      "        \n",
      "        Equation is V = At-(B/t)\n",
      "        | Type  | Cup Number | Drain Time | Orifice | Recommended Oil Viscosity |   A   |  B   |\n",
      "        |-------|------------|------------|---------|---------------------------|-------|------|\n",
      "        | ISO   | 3          | 30 to 100  | 3 mm    |                           | 0.443 |  200 |\n",
      "        | ISO   | 4          | 30 to 100  | 4 mm    |                           |  1.37 |  200 |\n",
      "        | ISO   | 5          | 30 to 100  | 5 mm    |                           |  3.28 |  220 |\n",
      "        | ISO   | 6          | 30 to 100  | 6 mm    |                           |  6.90 |  570 |\n",
      "    \n",
      "    Percentage_Error(Ref_Vis, Cup_Vis)\n",
      "        The maths required to calculate the percentage error between the Reference Viscosity and Measured Visocsity of the Cup.\n",
      "    \n",
      "    Ref_Oil(designation, oil_temp, V_TempL, TempL, V_TempH, TempH)\n",
      "        Corrects the mm²/s (cSt) for the Reference Oil used for calibration at a given temperature based upon information supplied on the calibration certificate.\n",
      "        State the Reference Oil used followed by the measured temperature, then Viscosity at Lower Temperature, Lower Temperature followed\n",
      "        by Viscosity at Higher Temperature, Higher Temperature. If you are unsure then the defaults will be used.\n",
      "        For example: C10 oil measured at 21.3 °C, Viscosity at Lower Temperature 20.72 mm²/s (cSt), Lower Temperature of 20 °C,\n",
      "        Viscosity at Higher Temperatures 16.92 mm²/s (cSt), Higher Temperatures 25 °C\n",
      "        Ref_Oil('C10',23,20.72,20,16.92,25)\n",
      "        This should give you a reading of 18.44 mm²/s (cSt)\n",
      "    \n",
      "    Shell_Cup(cup, t)\n",
      "        Convert the cup drain time (t) into kinematic viscosity values in mm²/s (cSt) for Shell Cups\n",
      "        Following the data from ASTM D4212\n",
      "        State Cup number followed by the time for example:\n",
      "        Shell Cup #2.5 with a drain time of 55 seconds\n",
      "        Shell_Cup(2.5,55)\n",
      "        This should give you a reading of 28.35 mm²/s (cSt)\n",
      "        \n",
      "        Equation is V = K(t−c)\n",
      "        \n",
      "        | Type  | Cup Number | Drain Time | Orifice | Recommended Oil Viscosity |   K   |  c   |\n",
      "        |-------|------------|------------|---------|---------------------------|-------|------|\n",
      "        | Shell |          1 | 20 to 80   | 1.8 mm  | 9 mm²/s (cSt)             | 0.226 |   13 |\n",
      "        | Shell |          2 | 20 to 80   | 2.4 mm  | 9 or 20 mm²/s (cSt)       | 0.576 |    5 |\n",
      "        | Shell |        2.5 | 20 to 80   | 2.7 mm  | 35 mm²/s (cSt)            | 0.925 |    3 |\n",
      "        | Shell |          3 | 20 to 80   | 3.1 mm  | 35 or 120 mm²/s (cSt)     |  1.51 |    2 |\n",
      "        | Shell |        3.5 | 20 to 80   | 3.5 mm  | 120 mm²/s (cSt)           |  2.17 |  1.5 |\n",
      "        | Shell |          4 | 20 to 80   | 3.8 mm  | 120 mm²/s (cSt)           |  3.45 |    1 |\n",
      "        | Shell |          5 | 20 to 80   | 4.6 mm  | 120 or 480 mm²/s (cSt)    |   6.5 |    1 |\n",
      "        | Shell |          6 | 20 to 80   | 5.8 mm  | 480 mm²/s (cSt)           |  16.2 |  0.5 |\n",
      "    \n",
      "    Zahn_Cup(cup, t)\n",
      "        Convert the cup drain time (t) into kinematic viscosity values in mm²/s (cSt) for Zahn Cups\n",
      "        Following the data from ASTM D4212 X3.3 and table X3.1\n",
      "        State Cup number followed by the time for example:\n",
      "        Zahn Cup #2 with a drain time of 35 seconds\n",
      "        Zahn_Cup(1,35)\n",
      "        This should give you a reading of 73.5 mm²/s (cSt)\n",
      "        \n",
      "        Equation is V = K(t−c)\n",
      "        | Type  | Cup Number | Drain Time | Orifice | Recommended Oil Viscosity |   K   |  c   |\n",
      "        |-------|------------|------------|---------|---------------------------|-------|------|\n",
      "        | Zahn  |          1 | 35 to 80   | 2.0 mm  | 20 mm²/s (cSt)            |   1.1 |   29 |\n",
      "        | Zahn  |          2 | 20 to 80   | 2.7 mm  | 120 mm²/s (cSt)           |   3.5 |   14 |\n",
      "        | Zahn  |          3 | 20 to 80   | 3.8 mm  | 480 mm²/s (cSt)           |  11.7 |  7.5 |\n",
      "        | Zahn  |          4 | 20 to 80   | 4.3 mm  | 480 mm²/s (cSt)           |  14.8 |    5 |\n",
      "        | Zahn  |          5 | 20 to 80   | 5.3 mm  | 900 or 1600 mm²/s (cSt)   |    23 |    0 |\n",
      "\n",
      "FILE\n",
      "    /home/pi/notebooks/Flow Cups/flowcups.py\n",
      "\n",
      "\n"
     ]
    }
   ],
   "source": [
    "import flowcups\n",
    "\n",
    "help(flowcups)"
   ]
  },
  {
   "cell_type": "code",
   "execution_count": 2,
   "id": "5239e0ea-f0b1-4d20-958b-39c2fd1481a1",
   "metadata": {},
   "outputs": [
    {
     "name": "stdout",
     "output_type": "stream",
     "text": [
      "Viscosity: 21.742 mm²/s (cSt)\n"
     ]
    }
   ],
   "source": [
    "Cup_Vis = round(flowcups.ISO_Cup(3,57), 3)\n",
    "print(f'Viscosity: {Cup_Vis} mm²/s (cSt)')"
   ]
  },
  {
   "cell_type": "code",
   "execution_count": 3,
   "id": "092dbaac-9b4c-439b-872f-a0d67cbf8543",
   "metadata": {},
   "outputs": [
    {
     "name": "stdout",
     "output_type": "stream",
     "text": [
      "Referance Oil: 18.44 mm²/s (cSt)\n"
     ]
    }
   ],
   "source": [
    "Ref_Vis = flowcups.Ref_Oil('C10',23,0,0,0,0)\n",
    "print(f'Referance Oil: {Ref_Vis} mm²/s (cSt)')"
   ]
  },
  {
   "cell_type": "code",
   "execution_count": 8,
   "id": "c4a93208-7689-463a-8438-60078d3b5a24",
   "metadata": {},
   "outputs": [
    {
     "name": "stdout",
     "output_type": "stream",
     "text": [
      "Percentage Error between Referance Oil and Measured Viscosity: -17.91 %\n"
     ]
    }
   ],
   "source": [
    "percent = round(flowcups.Percentage_Error(Ref_Vis,Cup_Vis),2)\n",
    "print(f'Percentage Error between Referance Oil and Measured Viscosity: {percent} %')"
   ]
  }
 ],
 "metadata": {
  "kernelspec": {
   "display_name": "Python 3 (ipykernel)",
   "language": "python",
   "name": "python3"
  },
  "language_info": {
   "codemirror_mode": {
    "name": "ipython",
    "version": 3
   },
   "file_extension": ".py",
   "mimetype": "text/x-python",
   "name": "python",
   "nbconvert_exporter": "python",
   "pygments_lexer": "ipython3",
   "version": "3.9.2"
  }
 },
 "nbformat": 4,
 "nbformat_minor": 5
}
