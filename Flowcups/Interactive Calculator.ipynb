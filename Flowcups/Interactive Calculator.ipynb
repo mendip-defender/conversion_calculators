{
 "cells": [
  {
   "cell_type": "markdown",
   "id": "2d7c2f6c-f380-46c2-b223-a2f72192e89b",
   "metadata": {},
   "source": [
    "# Flow Cup Drain Time Calculator\n",
    "These equations convert cup drain time, collected at 25 °C and between the minimum and maximum drain times indicated, into kinematic viscosity values in mm²/s (cSt).\n",
    "Based on the data provided in the following standards,\n",
    "* Zahn - ASTM D4212\n",
    "* Shell - ASTM D4212\n",
    "* Ford - ASTM D1200\n",
    "* DIN - DIN 53211\n",
    "* ISO - ISO 2341.\n",
    "\n",
    "_Copyright © 2024-05 Jack Stringer https://github.com/mendip-defender/_"
   ]
  },
  {
   "cell_type": "code",
   "execution_count": 4,
   "id": "73934506-7dc5-43e1-b3c5-a3caaac2e389",
   "metadata": {},
   "outputs": [],
   "source": [
    "import flowcups\n",
    "import ipywidgets as widgets\n",
    "from IPython.display import display\n",
    "\n",
    "# help(flowcups)"
   ]
  },
  {
   "cell_type": "code",
   "execution_count": 31,
   "id": "2989775b-3eae-4a38-9546-5b1b2ea7d0c0",
   "metadata": {},
   "outputs": [
    {
     "data": {
      "application/vnd.jupyter.widget-view+json": {
       "model_id": "ab6c0502d71f409b99164e31569f24de",
       "version_major": 2,
       "version_minor": 0
      },
      "text/plain": [
       "Dropdown(description='Cup Type:', options=('Zahn', 'Shell', 'Ford', 'DIN 4mm', 'ISO'), value='Zahn')"
      ]
     },
     "metadata": {},
     "output_type": "display_data"
    }
   ],
   "source": [
    "cup_type = widgets.Dropdown(\n",
    "    options=['Zahn', 'Shell', 'Ford', 'DIN 4mm', 'ISO'],\n",
    "    value='Zahn',\n",
    "    description='Cup Type:',\n",
    "    disabled=False,\n",
    ")\n",
    "display(cup_type)"
   ]
  },
  {
   "cell_type": "code",
   "execution_count": 35,
   "id": "8bcb0bce-714c-4c56-b557-7bc31211b1b9",
   "metadata": {},
   "outputs": [
    {
     "data": {
      "application/vnd.jupyter.widget-view+json": {
       "model_id": "0dda9fabd6314c5ba3086481bf4fbb99",
       "version_major": 2,
       "version_minor": 0
      },
      "text/plain": [
       "Dropdown(description='Cup Number/Size:', options=('4',), value='4')"
      ]
     },
     "metadata": {},
     "output_type": "display_data"
    }
   ],
   "source": [
    "if cup_type.value == 'Zahn':\n",
    "    cup_size_options = ['1', '2', '3', '4', '5', '6']\n",
    "elif cup_type.value == 'Shell':\n",
    "    cup_size_options = ['1', '2', '2.5', '3', '3.5', '4', '5', '6']\n",
    "elif cup_type.value == 'Ford':\n",
    "    cup_size_options = ['1', '2', '3', '4', '5']\n",
    "elif cup_type.value == 'DIN 4mm':\n",
    "    cup_size_options = ['4']\n",
    "else: # cup_type == 'ISO'\n",
    "    cup_size_options = ['3', '4', '5', '6']\n",
    "\n",
    "cup_size = widgets.Dropdown(\n",
    "    options=cup_size_options,\n",
    "    value='4',\n",
    "    description='Cup Number/Size:',\n",
    "    disabled=False,\n",
    ")\n",
    "display(cup_size)"
   ]
  },
  {
   "cell_type": "code",
   "execution_count": 61,
   "id": "165f33e9-1daa-44f5-ac5b-13e2d4402a69",
   "metadata": {},
   "outputs": [
    {
     "name": "stdout",
     "output_type": "stream",
     "text": [
      "Type: DIN 4mm\n",
      "Referance standard: DIN 53211\n",
      "Cup Number: 4\n",
      "Drain Time: 25 to 150 seconds\n",
      "Orifice: 4.0 mm\n",
      "Recommended Oil Viscosity: -\n",
      "A: 4.57\n",
      "B: 452\n",
      "Formula: V = At-B/t\n"
     ]
    },
    {
     "data": {
      "application/vnd.jupyter.widget-view+json": {
       "model_id": "759691f8cd3e477d8fb7ad96a94f9b5a",
       "version_major": 2,
       "version_minor": 0
      },
      "text/plain": [
       "BoundedFloatText(value=69.69, description='Time (seconds):', step=0.01)"
      ]
     },
     "metadata": {},
     "output_type": "display_data"
    },
    {
     "data": {
      "application/vnd.jupyter.widget-view+json": {
       "model_id": "818c28687f73457ca5d778178332595c",
       "version_major": 2,
       "version_minor": 0
      },
      "text/plain": [
       "IntSlider(value=3, continuous_update=False, description='Digits to round result to:', max=5)"
      ]
     },
     "metadata": {},
     "output_type": "display_data"
    }
   ],
   "source": [
    "if cup_type.value == 'Zahn':\n",
    "    ref_standard='ASTM D4212 X3.3 and table X3.1'\n",
    "    f_cup=\"Zahn_Cup\"\n",
    "    d_form='V = K(t−c)'\n",
    "    d_type='Zahn'\n",
    "    if cup_size.value == '1':\n",
    "        d_num='1'\n",
    "        d_time='35 to 80'\n",
    "        d_orif='2.0 mm'\n",
    "        d_oil='20 mm²/s (cSt)'\n",
    "        d_K='1.1'\n",
    "        d_c='29'\n",
    "    elif cup_size.value == '2':\n",
    "        d_num='2'\n",
    "        d_time='20 to 80'\n",
    "        d_orif='2.7 mm'\n",
    "        d_oil='120 mm²/s (cSt)'\n",
    "        d_K='3.5'\n",
    "        d_c='14'\n",
    "    elif cup_size.value == '3':\n",
    "        d_num='3'\n",
    "        d_time='20 to 80'\n",
    "        d_orif='3.8 mm'\n",
    "        d_oil='480 mm²/s (cSt)'\n",
    "        d_K='11.7'\n",
    "        d_c='7.5'\n",
    "    elif cup_size.value == '4':\n",
    "        d_num='4'\n",
    "        d_time='20 to 80'\n",
    "        d_orif='4.3 mm'\n",
    "        d_oil='480 mm²/s (cSt)'\n",
    "        d_K='14.8'\n",
    "        d_c='5'\n",
    "    else: # cup_size.value == '5'\n",
    "        d_num='5'\n",
    "        d_time='20 to 80'\n",
    "        d_orif='5.3 mm'\n",
    "        d_oil='900 or 1600 mm²/s (cSt)'\n",
    "        d_K='23'\n",
    "        d_c='0'\n",
    "elif cup_type.value == 'Shell':\n",
    "    ref_standard='ASTM D4212'\n",
    "    f_cup=\"Shell_Cup\"\n",
    "    d_form='V = K(t−c)'\n",
    "    d_type='Shell'\n",
    "    if cup_size.value == '1':\n",
    "        d_num='1'\n",
    "        d_time='20 to 80'\n",
    "        d_orif='1.8 mm'\n",
    "        d_oil='9 mm²/s (cSt)'\n",
    "        d_K='0.226'\n",
    "        d_c='13'\n",
    "    elif cup_size.value == '2':\n",
    "        d_num='2'\n",
    "        d_time='20 to 80'\n",
    "        d_orif='2.4 mm'\n",
    "        d_oil='9 or 20 mm²/s (cSt)'\n",
    "        d_K='0.576'\n",
    "        d_c='5'\n",
    "    elif cup_size.value == '2.5':\n",
    "        d_num='2.5'\n",
    "        d_time='20 to 80'\n",
    "        d_orif='2.7 mm'\n",
    "        d_oil='35 mm²/s (cSt)'\n",
    "        d_K='0.925'\n",
    "        d_c='3'\n",
    "    elif cup_size.value == '3':\n",
    "        d_num='3'\n",
    "        d_time='20 to 80'\n",
    "        d_orif='3.1 mm'\n",
    "        d_oil='35 or 120 mm²/s (cSt)'\n",
    "        d_K='1.51'\n",
    "        d_c='2'\n",
    "    elif cup_size.value == '3.5':\n",
    "        d_num='3.5'\n",
    "        d_time='20 to 80'\n",
    "        d_orif='3.5 mm'\n",
    "        d_oil='120 mm²/s (cSt)'\n",
    "        d_K='2.17'\n",
    "        d_c='1.5'\n",
    "    elif cup_size.value == '4':\n",
    "        d_num='4'\n",
    "        d_time='20 to 80'\n",
    "        d_orif='3.8 mm'\n",
    "        d_oil='120 mm²/s (cSt)'\n",
    "        d_K='3.45'\n",
    "        d_c='1'\n",
    "    elif cup_size.value == '5':\n",
    "        d_num='5'\n",
    "        d_time='20 to 80'\n",
    "        d_orif='4.6 mm'\n",
    "        d_oil='120 or 480 mm²/s (cSt)'\n",
    "        d_K='6.5'\n",
    "        d_c='1'\n",
    "    else: # cup_size.value == '6'\n",
    "        d_num='6'\n",
    "        d_time='20 to 80'\n",
    "        d_orif='5.8 mm'\n",
    "        d_oil='480 mm²/s (cSt)'\n",
    "        d_K='16.2'\n",
    "        d_c='0.5'\n",
    "elif cup_type.value == 'Ford':\n",
    "    ref_standard='ASTM D1200'\n",
    "    f_cup=\"Ford_Cup\"\n",
    "    d_form='V = K(t−c)'\n",
    "    d_type='Ford'\n",
    "    if cup_size.value == '1':\n",
    "        d_num='1'\n",
    "        d_time='55 to 100'\n",
    "        d_orif='1.9 mm'\n",
    "        d_oil='20 mm²/s (cSt)'\n",
    "        d_K='0.49'\n",
    "        d_c='35'\n",
    "    elif cup_size.value == '2':\n",
    "        d_num='2'\n",
    "        d_time='40 to 100'\n",
    "        d_orif='2.53 mm'\n",
    "        d_oil='35 mm²/s (cSt)'\n",
    "        d_K='1.44'\n",
    "        d_c='18'\n",
    "    elif cup_size.value == '3':\n",
    "        d_num='3'\n",
    "        d_time='20 to 100'\n",
    "        d_orif='3.4 mm'\n",
    "        d_oil='120 mm²/s (cSt)'\n",
    "        d_K='2.31'\n",
    "        d_c='6.58'\n",
    "    elif cup_size.value == '4':\n",
    "        d_num='4'\n",
    "        d_time='20 to 100'\n",
    "        d_orif='4.12 mm'\n",
    "        d_oil='120 mm²/s (cSt)'\n",
    "        d_K='3.85'\n",
    "        d_c='4.49'\n",
    "    else: # cup_size.value == '5'\n",
    "        d_num='5'\n",
    "        d_time='20 to 100'\n",
    "        d_orif='5.2 mm'\n",
    "        d_oil='460 mm²/s (cSt)'\n",
    "        d_K='12.1'\n",
    "        d_c='2'\n",
    "elif cup_type.value == 'DIN 4mm':\n",
    "        ref_standard='DIN 53211'\n",
    "        f_cup=\"DIN_Cup\"\n",
    "        d_form='V = At-B/t'\n",
    "        d_type='DIN 4mm'\n",
    "        d_num='4'\n",
    "        d_time='25 to 150'\n",
    "        d_orif='4.0 mm'\n",
    "        d_oil='-'\n",
    "        d_A='4.57'\n",
    "        d_B='452'\n",
    "else: # cup_type == 'ISO'\n",
    "    ref_standard='ISO 2341'\n",
    "    d_form='V = At-(B/t)'\n",
    "    f_cup=\"ISO_Cup\"\n",
    "    d_type='ISO'\n",
    "    if cup_size.value == '3':\n",
    "        d_num='3'\n",
    "        d_time='30 to 100'\n",
    "        d_orif='3 mm'\n",
    "        d_oil='-'\n",
    "        d_A='0.443'\n",
    "        d_B='200'\n",
    "    elif cup_size.value == '4':\n",
    "        d_num='4'\n",
    "        d_time='30 to 100'\n",
    "        d_orif='4 mm'\n",
    "        d_oil='-'\n",
    "        d_A='1.37'\n",
    "        d_B='200'\n",
    "    elif cup_size.value == '5':\n",
    "        d_num='5'\n",
    "        d_time='30 to 100'\n",
    "        d_orif='5 mm'\n",
    "        d_oil='-'\n",
    "        d_A='3.28'\n",
    "        d_B='220'\n",
    "        d_num='6'\n",
    "        d_time='30 to 100'\n",
    "        d_orif='6 mm'\n",
    "        d_oil='-'\n",
    "        d_A='6.90'\n",
    "        d_B='570'  \n",
    "\n",
    "time = widgets.BoundedFloatText(\n",
    "    value=69.69,\n",
    "    step=0.01,\n",
    "    description='Time (seconds):',\n",
    "    disabled=False\n",
    ")\n",
    "n_digits = widgets.IntSlider(\n",
    "    value=3,\n",
    "    min=0,\n",
    "    max=5,\n",
    "    step=1,\n",
    "    description='Digits to round result to:',\n",
    "    disabled=False,\n",
    "    continuous_update=False,\n",
    "    orientation='horizontal',\n",
    "    readout=True,\n",
    "    readout_format='d'\n",
    ")\n",
    "\n",
    "print(f'Type: {d_type}')\n",
    "print(f'Referance standard: {ref_standard}')\n",
    "print(f'Cup Number: {d_num}')\n",
    "print(f'Drain Time: {d_time} seconds')\n",
    "print(f'Orifice: {d_orif}')\n",
    "print(f'Recommended Oil Viscosity: {d_oil}')\n",
    "if d_K is True:\n",
    "    print(f'K: {d_K}')\n",
    "    print(f'c: {d_c}')\n",
    "else:\n",
    "    print(f'A: {d_A}')\n",
    "    print(f'B: {d_B}')\n",
    "print(f'Formula: {d_form}')\n",
    "\n",
    "display(time)\n",
    "display(n_digits)"
   ]
  },
  {
   "cell_type": "code",
   "execution_count": 64,
   "id": "5239e0ea-f0b1-4d20-958b-39c2fd1481a1",
   "metadata": {},
   "outputs": [
    {
     "ename": "AttributeError",
     "evalue": "module 'flowcups' has no attribute 'f_cup'",
     "output_type": "error",
     "traceback": [
      "\u001b[0;31m---------------------------------------------------------------------------\u001b[0m",
      "\u001b[0;31mAttributeError\u001b[0m                            Traceback (most recent call last)",
      "Cell \u001b[0;32mIn[64], line 1\u001b[0m\n\u001b[0;32m----> 1\u001b[0m Cup_Vis \u001b[38;5;241m=\u001b[39m \u001b[38;5;28mround\u001b[39m(\u001b[43mflowcups\u001b[49m\u001b[38;5;241;43m.\u001b[39;49m\u001b[43mf_cup\u001b[49m(cup_size\u001b[38;5;241m.\u001b[39mvalue,time\u001b[38;5;241m.\u001b[39mvalue), n_digits\u001b[38;5;241m.\u001b[39mvalue)\n\u001b[1;32m      2\u001b[0m \u001b[38;5;28mprint\u001b[39m(\u001b[38;5;124mf\u001b[39m\u001b[38;5;124m'\u001b[39m\u001b[38;5;124mViscosity: \u001b[39m\u001b[38;5;132;01m{\u001b[39;00mCup_Vis\u001b[38;5;132;01m}\u001b[39;00m\u001b[38;5;124m mm²/s (cSt)\u001b[39m\u001b[38;5;124m'\u001b[39m)\n",
      "\u001b[0;31mAttributeError\u001b[0m: module 'flowcups' has no attribute 'f_cup'"
     ]
    }
   ],
   "source": [
    "Cup_Vis = round(flowcups.f_cup(cup_size.value,time.value), n_digits.value)\n",
    "print(f'Viscosity: {Cup_Vis} mm²/s (cSt)')"
   ]
  },
  {
   "cell_type": "code",
   "execution_count": 3,
   "id": "092dbaac-9b4c-439b-872f-a0d67cbf8543",
   "metadata": {},
   "outputs": [
    {
     "name": "stdout",
     "output_type": "stream",
     "text": [
      "Referance Oil: 18.44 mm²/s (cSt)\n"
     ]
    }
   ],
   "source": [
    "Ref_Vis = flowcups.Ref_Oil('C10',23,0,0,0,0)\n",
    "print(f'Referance Oil: {Ref_Vis} mm²/s (cSt)')"
   ]
  },
  {
   "cell_type": "code",
   "execution_count": 8,
   "id": "c4a93208-7689-463a-8438-60078d3b5a24",
   "metadata": {},
   "outputs": [
    {
     "name": "stdout",
     "output_type": "stream",
     "text": [
      "Percentage Error between Referance Oil and Measured Viscosity: -17.91 %\n"
     ]
    }
   ],
   "source": [
    "percent = round(flowcups.Percentage_Error(Ref_Vis,Cup_Vis),2)\n",
    "print(f'Percentage Error between Referance Oil and Measured Viscosity: {percent} %')"
   ]
  }
 ],
 "metadata": {
  "kernelspec": {
   "display_name": "Python 3 (ipykernel)",
   "language": "python",
   "name": "python3"
  },
  "language_info": {
   "codemirror_mode": {
    "name": "ipython",
    "version": 3
   },
   "file_extension": ".py",
   "mimetype": "text/x-python",
   "name": "python",
   "nbconvert_exporter": "python",
   "pygments_lexer": "ipython3",
   "version": "3.11.2"
  }
 },
 "nbformat": 4,
 "nbformat_minor": 5
}
